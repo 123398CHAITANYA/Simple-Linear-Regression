{
 "cells": [
  {
   "cell_type": "markdown",
   "metadata": {},
   "source": [
    "# Linear Regression with Python without using scikit-learn"
   ]
  },
  {
   "cell_type": "markdown",
   "metadata": {},
   "source": [
    "# Simple Linear Regression\n",
    "In this regression task we will predict the percentage of marks that a student is expected to score based upon the number of hours they studied. This is a simple linear regression task as it involves just two variables."
   ]
  },
  {
   "cell_type": "markdown",
   "metadata": {},
   "source": [
    "# Importing neccesary libraries"
   ]
  },
  {
   "cell_type": "code",
   "execution_count": 59,
   "metadata": {},
   "outputs": [],
   "source": [
    "import pandas as pd\n",
    "import numpy as np\n",
    "import matplotlib.pyplot as plt\n",
    "%matplotlib inline"
   ]
  },
  {
   "cell_type": "raw",
   "metadata": {},
   "source": [
    "No pre-processing of data needed as all data is in desired form"
   ]
  },
  {
   "cell_type": "markdown",
   "metadata": {},
   "source": [
    "# Finding coeficients i.e. Slope and Y intercept using least square method"
   ]
  },
  {
   "cell_type": "code",
   "execution_count": 60,
   "metadata": {},
   "outputs": [],
   "source": [
    "def estimate_cm(x,y):\n",
    "    n=np.size(x)      #finding size of array x\n",
    "    m_x=np.mean(x)    #finding mean of x\n",
    "    m_y=np.mean(y)    #finding mean of y\n",
    "    ss_xy=np.sum(y*x)-n*m_y*m_x      #finding numerator part in formula driven from least square method\n",
    "    ss_xx=np.sum(x*x)-n*m_x*m_x     #finding denominator part in formula driven from least square method\n",
    "    m=ss_xy/ss_xx     # slope of our curve according to formula driven from least square method\n",
    "    c=m_y-m*m_x      # y intercept of our curve according to formula driven from least square method\n",
    "    print(m)\n",
    "    print(c)\n",
    "    return (m,c)\n"
   ]
  },
  {
   "cell_type": "markdown",
   "metadata": {},
   "source": [
    "# Function to plot (scatter and linear curve)"
   ]
  },
  {
   "cell_type": "code",
   "execution_count": 61,
   "metadata": {},
   "outputs": [],
   "source": [
    "def plot(x,y,b):\n",
    "    # plotting scatter plot\n",
    "    plt.scatter(x, y, color = \"m\",\n",
    "               marker = \"o\", s = 30)\n",
    "    # predicting our result using obtained slope and intercept\n",
    "    y_pred=b[1]+b[0]*x\n",
    "    #plotting our regression line\n",
    "    plt.plot(x,y_pred,color=\"g\")\n",
    "    print(x)\n",
    "    print(y_pred)\n",
    "    #putting labels\n",
    "    plt.xlabel=(\"Study hours\")\n",
    "    plt.ylabel=(\"Predicted percentage\")\n",
    "    plt.show()\n",
    "    "
   ]
  },
  {
   "cell_type": "markdown",
   "metadata": {},
   "source": [
    "\n",
    "\n",
    "# Defining our main function\n",
    "Importing data "
   ]
  },
  {
   "cell_type": "code",
   "execution_count": 62,
   "metadata": {},
   "outputs": [
    {
     "name": "stdout",
     "output_type": "stream",
     "text": [
      "[2.5 5.1 3.2 8.5 3.5 1.5 9.2 5.5 8.3 2.7 7.7 5.9 4.5 3.3 1.1 8.9 2.5 1.9\n",
      " 6.1 7.4 2.7 4.8 3.8 6.9 7.8]\n",
      "[21 47 27 75 30 20 88 60 81 25 85 62 41 42 17 95 30 24 67 69 30 54 35 76\n",
      " 86]\n"
     ]
    }
   ],
   "source": [
    "df=pd.read_csv('task1.csv')      #importing dataset\n",
    "x=df['Hours']                    #defining x axis\n",
    "y=df['Scores']                   #defining y axis\n",
    "#coverting x and y to numpy array\n",
    "x=x.to_numpy()\n",
    "y=y.to_numpy()             \n",
    "print(x)\n",
    "print(y)\n"
   ]
  },
  {
   "cell_type": "code",
   "execution_count": 63,
   "metadata": {},
   "outputs": [
    {
     "name": "stdout",
     "output_type": "stream",
     "text": [
      "9.775803390787466\n",
      "2.4836734053732172\n",
      "Estimated coefficients according to given dataset:\n",
      " Slope(m)=9.775803390787466\n",
      " Y Intercept(c)=2.4836734053732172\n"
     ]
    }
   ],
   "source": [
    "b=estimate_cm(x,y)\n",
    "print('Estimated coefficients according to given dataset:\\n Slope(m)={}\\n Y Intercept(c)={}'.format(b[0],b[1]))\n",
    "\n"
   ]
  },
  {
   "cell_type": "markdown",
   "metadata": {},
   "source": [
    "# Plotting regression line and predicting answer"
   ]
  },
  {
   "cell_type": "code",
   "execution_count": 64,
   "metadata": {},
   "outputs": [
    {
     "name": "stdout",
     "output_type": "stream",
     "text": [
      "[2.5 5.1 3.2 8.5 3.5 1.5 9.2 5.5 8.3 2.7 7.7 5.9 4.5 3.3 1.1 8.9 2.5 1.9\n",
      " 6.1 7.4 2.7 4.8 3.8 6.9 7.8]\n",
      "[26.92318188 52.3402707  33.76624426 85.57800223 36.69898527 17.14737849\n",
      " 92.4210646  56.25059205 83.62284155 28.87834256 77.75735951 60.16091341\n",
      " 46.47478866 34.74382459 13.23705714 89.48832358 26.92318188 21.05769985\n",
      " 62.11607409 74.8246185  28.87834256 49.40752968 39.63172629 69.9367168\n",
      " 78.73493985]\n"
     ]
    },
    {
     "data": {
      "image/png": "[encoded data removed]",
      "text/plain": [
       "<Figure size 432x288 with 1 Axes>"
      ]
     },
     "metadata": {
      "needs_background": "light"
     },
     "output_type": "display_data"
    }
   ],
   "source": [
    "plot(x,y,b)"
   ]
  },
  {
   "cell_type": "markdown",
   "metadata": {},
   "source": [
    "# Predicting Results"
   ]
  },
  {
   "cell_type": "code",
   "execution_count": 67,
   "metadata": {},
   "outputs": [
    {
     "name": "stdout",
     "output_type": "stream",
     "text": [
      "Enter study hours : 5\n",
      "Estimated percentage according to study hours =  51.36269035931055\n"
     ]
    }
   ],
   "source": [
    "t=float(input(\"Enter study hours : \"))\n",
    "r_pred=b[1]+b[0]*t\n",
    "print(\"Estimated percentage according to study hours = \",r_pred)\n"
   ]
  },
  {
   "cell_type": "code",
   "execution_count": null,
   "metadata": {},
   "outputs": [],
   "source": []
  }
 ],
 "metadata": {
  "kernelspec": {
   "display_name": "Python 3",
   "language": "python",
   "name": "python3"
  },
  "language_info": {
   "codemirror_mode": {
    "name": "ipython",
    "version": 3
   },
   "file_extension": ".py",
   "mimetype": "text/x-python",
   "name": "python",
   "nbconvert_exporter": "python",
   "pygments_lexer": "ipython3",
   "version": "3.7.6"
  }
 },
 "nbformat": 4,
 "nbformat_minor": 4
}
